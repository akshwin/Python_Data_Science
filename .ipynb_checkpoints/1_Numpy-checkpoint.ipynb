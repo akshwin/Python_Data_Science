{
 "cells": [
  {
   "cell_type": "markdown",
   "metadata": {
    "id": "96vrkg43zKuG"
   },
   "source": [
    "**NUMPY**"
   ]
  },
  {
   "cell_type": "code",
   "execution_count": 1,
   "metadata": {
    "executionInfo": {
     "elapsed": 6,
     "status": "ok",
     "timestamp": 1686198283152,
     "user": {
      "displayName": "Akshwin T",
      "userId": "06648721747865327926"
     },
     "user_tz": -330
    },
    "id": "ioHtqOdSy-kR",
    "tags": []
   },
   "outputs": [],
   "source": [
    "import numpy as np"
   ]
  },
  {
   "cell_type": "code",
   "execution_count": 2,
   "metadata": {
    "colab": {
     "base_uri": "https://localhost:8080/"
    },
    "executionInfo": {
     "elapsed": 4,
     "status": "ok",
     "timestamp": 1686198292432,
     "user": {
      "displayName": "Akshwin T",
      "userId": "06648721747865327926"
     },
     "user_tz": -330
    },
    "id": "rjUrHlBLzM2m",
    "outputId": "10cbf6b0-286d-4b49-ea34-f6a811270c7c",
    "tags": []
   },
   "outputs": [
    {
     "data": {
      "text/plain": [
       "array([1, 2, 3])"
      ]
     },
     "execution_count": 2,
     "metadata": {},
     "output_type": "execute_result"
    }
   ],
   "source": [
    "mylist = [1,2,3]\n",
    "n=np.array(mylist)\n",
    "n"
   ]
  },
  {
   "cell_type": "code",
   "execution_count": 3,
   "metadata": {
    "colab": {
     "base_uri": "https://localhost:8080/"
    },
    "executionInfo": {
     "elapsed": 16,
     "status": "ok",
     "timestamp": 1686198293285,
     "user": {
      "displayName": "Akshwin T",
      "userId": "06648721747865327926"
     },
     "user_tz": -330
    },
    "id": "-d6vv3O0zRLg",
    "outputId": "eb67c092-dd16-4b20-9c7e-232eba2a5c03",
    "tags": []
   },
   "outputs": [
    {
     "data": {
      "text/plain": [
       "list"
      ]
     },
     "execution_count": 3,
     "metadata": {},
     "output_type": "execute_result"
    }
   ],
   "source": [
    "type(mylist)"
   ]
  },
  {
   "cell_type": "code",
   "execution_count": 4,
   "metadata": {
    "colab": {
     "base_uri": "https://localhost:8080/"
    },
    "executionInfo": {
     "elapsed": 16,
     "status": "ok",
     "timestamp": 1686198293286,
     "user": {
      "displayName": "Akshwin T",
      "userId": "06648721747865327926"
     },
     "user_tz": -330
    },
    "id": "7dG-jBaBzXwC",
    "outputId": "2f27bf2e-6a84-4083-ab4a-3ebc5cc06056",
    "tags": []
   },
   "outputs": [
    {
     "data": {
      "text/plain": [
       "numpy.ndarray"
      ]
     },
     "execution_count": 4,
     "metadata": {},
     "output_type": "execute_result"
    }
   ],
   "source": [
    "type(n)"
   ]
  },
  {
   "cell_type": "code",
   "execution_count": 5,
   "metadata": {
    "colab": {
     "base_uri": "https://localhost:8080/"
    },
    "executionInfo": {
     "elapsed": 13,
     "status": "ok",
     "timestamp": 1686198293286,
     "user": {
      "displayName": "Akshwin T",
      "userId": "06648721747865327926"
     },
     "user_tz": -330
    },
    "id": "5bbgkq9rzYyA",
    "outputId": "35cc574f-5aa4-467f-b0a8-b0db4bba508c",
    "tags": []
   },
   "outputs": [
    {
     "data": {
      "text/plain": [
       "array([1, 2, 3])"
      ]
     },
     "execution_count": 5,
     "metadata": {},
     "output_type": "execute_result"
    }
   ],
   "source": [
    "n = np.array([1,2,3])\n",
    "n"
   ]
  },
  {
   "cell_type": "markdown",
   "metadata": {
    "id": "UeY7KqQazd3i"
   },
   "source": [
    "**CREATING MULTI DIMENTIONAL ARRAY**"
   ]
  },
  {
   "cell_type": "code",
   "execution_count": 6,
   "metadata": {
    "colab": {
     "base_uri": "https://localhost:8080/"
    },
    "executionInfo": {
     "elapsed": 11,
     "status": "ok",
     "timestamp": 1686198293287,
     "user": {
      "displayName": "Akshwin T",
      "userId": "06648721747865327926"
     },
     "user_tz": -330
    },
    "id": "YeiOVMiYzc6w",
    "outputId": "baa25b72-efc2-44b7-dc40-47712727ac24",
    "tags": []
   },
   "outputs": [
    {
     "data": {
      "text/plain": [
       "array([[1, 2, 3],\n",
       "       [4, 5, 6],\n",
       "       [7, 8, 9]])"
      ]
     },
     "execution_count": 6,
     "metadata": {},
     "output_type": "execute_result"
    }
   ],
   "source": [
    "list_of_list = np.array([[1,2,3],[4,5,6],[7,8,9]])\n",
    "list_of_list"
   ]
  },
  {
   "cell_type": "code",
   "execution_count": 7,
   "metadata": {
    "colab": {
     "base_uri": "https://localhost:8080/"
    },
    "executionInfo": {
     "elapsed": 9,
     "status": "ok",
     "timestamp": 1686198293287,
     "user": {
      "displayName": "Akshwin T",
      "userId": "06648721747865327926"
     },
     "user_tz": -330
    },
    "id": "9mCZhPXrzoAH",
    "outputId": "1e9290fc-fe38-4276-ba85-f9650990e17a",
    "tags": []
   },
   "outputs": [
    {
     "data": {
      "text/plain": [
       "numpy.ndarray"
      ]
     },
     "execution_count": 7,
     "metadata": {},
     "output_type": "execute_result"
    }
   ],
   "source": [
    "type(list_of_list)"
   ]
  },
  {
   "cell_type": "code",
   "execution_count": 8,
   "metadata": {
    "colab": {
     "base_uri": "https://localhost:8080/"
    },
    "executionInfo": {
     "elapsed": 7,
     "status": "ok",
     "timestamp": 1686198293287,
     "user": {
      "displayName": "Akshwin T",
      "userId": "06648721747865327926"
     },
     "user_tz": -330
    },
    "id": "XFi_BM7_z27S",
    "outputId": "d4fd194e-b9fe-4564-c609-b7493251335c",
    "tags": []
   },
   "outputs": [
    {
     "data": {
      "text/plain": [
       "(3, 3)"
      ]
     },
     "execution_count": 8,
     "metadata": {},
     "output_type": "execute_result"
    }
   ],
   "source": [
    "list_of_list.shape"
   ]
  },
  {
   "cell_type": "markdown",
   "metadata": {
    "id": "BVe-0lMTz9N-"
   },
   "source": [
    "ARANGE FUNCTION "
   ]
  },
  {
   "cell_type": "code",
   "execution_count": 9,
   "metadata": {
    "colab": {
     "base_uri": "https://localhost:8080/"
    },
    "executionInfo": {
     "elapsed": 6,
     "status": "ok",
     "timestamp": 1686198293287,
     "user": {
      "displayName": "Akshwin T",
      "userId": "06648721747865327926"
     },
     "user_tz": -330
    },
    "id": "Sfhg33yLz6Cv",
    "outputId": "c192bd4c-ed05-4981-f511-f4060cad68cf",
    "tags": []
   },
   "outputs": [
    {
     "data": {
      "text/plain": [
       "array([0, 1, 2, 3, 4, 5, 6, 7, 8, 9])"
      ]
     },
     "execution_count": 9,
     "metadata": {},
     "output_type": "execute_result"
    }
   ],
   "source": [
    "# return evenly spaced values within a given interval\n",
    "\n",
    "np.arange(0,10)"
   ]
  },
  {
   "cell_type": "code",
   "execution_count": 10,
   "metadata": {
    "colab": {
     "base_uri": "https://localhost:8080/"
    },
    "executionInfo": {
     "elapsed": 19,
     "status": "ok",
     "timestamp": 1686198293971,
     "user": {
      "displayName": "Akshwin T",
      "userId": "06648721747865327926"
     },
     "user_tz": -330
    },
    "id": "WAROKD340DBh",
    "outputId": "c077471f-0b02-49f5-be01-be11054ca58d",
    "tags": []
   },
   "outputs": [
    {
     "data": {
      "text/plain": [
       "array([0, 1, 2, 3, 4, 5, 6, 7, 8, 9])"
      ]
     },
     "execution_count": 10,
     "metadata": {},
     "output_type": "execute_result"
    }
   ],
   "source": [
    "np.arange(10)"
   ]
  },
  {
   "cell_type": "code",
   "execution_count": 11,
   "metadata": {
    "colab": {
     "base_uri": "https://localhost:8080/"
    },
    "executionInfo": {
     "elapsed": 19,
     "status": "ok",
     "timestamp": 1686198293972,
     "user": {
      "displayName": "Akshwin T",
      "userId": "06648721747865327926"
     },
     "user_tz": -330
    },
    "id": "UDl-rjWZ0Eqp",
    "outputId": "57de35b0-628a-4783-d4ba-df91ecbba253",
    "tags": []
   },
   "outputs": [
    {
     "data": {
      "text/plain": [
       "array([0, 2, 4, 6, 8])"
      ]
     },
     "execution_count": 11,
     "metadata": {},
     "output_type": "execute_result"
    }
   ],
   "source": [
    "np.arange(0,10,2)"
   ]
  },
  {
   "cell_type": "code",
   "execution_count": 12,
   "metadata": {
    "colab": {
     "base_uri": "https://localhost:8080/"
    },
    "executionInfo": {
     "elapsed": 15,
     "status": "ok",
     "timestamp": 1686198293972,
     "user": {
      "displayName": "Akshwin T",
      "userId": "06648721747865327926"
     },
     "user_tz": -330
    },
    "id": "edr69ZHy0G6q",
    "outputId": "a1eb4e2b-c078-420d-c4ee-720277ca748a",
    "tags": []
   },
   "outputs": [
    {
     "name": "stdout",
     "output_type": "stream",
     "text": [
      "0\n",
      "1\n",
      "2\n",
      "3\n",
      "4\n",
      "5\n",
      "6\n",
      "7\n",
      "8\n",
      "9\n"
     ]
    }
   ],
   "source": [
    "for i in range(10):\n",
    "  print(i)"
   ]
  },
  {
   "cell_type": "markdown",
   "metadata": {
    "id": "qiTvAq0o0Ly5"
   },
   "source": [
    "**NUMPY ZEROS ONES EYE**"
   ]
  },
  {
   "cell_type": "code",
   "execution_count": 13,
   "metadata": {
    "colab": {
     "base_uri": "https://localhost:8080/"
    },
    "executionInfo": {
     "elapsed": 13,
     "status": "ok",
     "timestamp": 1686198293973,
     "user": {
      "displayName": "Akshwin T",
      "userId": "06648721747865327926"
     },
     "user_tz": -330
    },
    "id": "42J0aVJJ0KhE",
    "outputId": "9ba8f2d3-0eef-4e7c-fb80-a1cf428fabd6",
    "tags": []
   },
   "outputs": [
    {
     "data": {
      "text/plain": [
       "array([0., 0., 0., 0., 0., 0., 0., 0., 0., 0.])"
      ]
     },
     "execution_count": 13,
     "metadata": {},
     "output_type": "execute_result"
    }
   ],
   "source": [
    "np.zeros(10)"
   ]
  },
  {
   "cell_type": "code",
   "execution_count": 14,
   "metadata": {
    "colab": {
     "base_uri": "https://localhost:8080/"
    },
    "executionInfo": {
     "elapsed": 11,
     "status": "ok",
     "timestamp": 1686198293973,
     "user": {
      "displayName": "Akshwin T",
      "userId": "06648721747865327926"
     },
     "user_tz": -330
    },
    "id": "7XEI0H-h0Q0v",
    "outputId": "245abeda-22e4-4897-cefe-4010b90469f5",
    "tags": []
   },
   "outputs": [
    {
     "data": {
      "text/plain": [
       "array([1., 1., 1., 1., 1., 1., 1., 1., 1., 1.])"
      ]
     },
     "execution_count": 14,
     "metadata": {},
     "output_type": "execute_result"
    }
   ],
   "source": [
    "np.ones(10)"
   ]
  },
  {
   "cell_type": "code",
   "execution_count": 15,
   "metadata": {
    "colab": {
     "base_uri": "https://localhost:8080/"
    },
    "executionInfo": {
     "elapsed": 10,
     "status": "ok",
     "timestamp": 1686198293973,
     "user": {
      "displayName": "Akshwin T",
      "userId": "06648721747865327926"
     },
     "user_tz": -330
    },
    "id": "IrFrmH4g0TC6",
    "outputId": "70d4107c-1663-4d86-a304-d701ac22d2e9",
    "tags": []
   },
   "outputs": [
    {
     "data": {
      "text/plain": [
       "array([[1., 1.],\n",
       "       [1., 1.],\n",
       "       [1., 1.],\n",
       "       [1., 1.],\n",
       "       [1., 1.]])"
      ]
     },
     "execution_count": 15,
     "metadata": {},
     "output_type": "execute_result"
    }
   ],
   "source": [
    "np.ones((5,2))"
   ]
  },
  {
   "cell_type": "code",
   "execution_count": 16,
   "metadata": {
    "colab": {
     "base_uri": "https://localhost:8080/"
    },
    "executionInfo": {
     "elapsed": 8,
     "status": "ok",
     "timestamp": 1686198293973,
     "user": {
      "displayName": "Akshwin T",
      "userId": "06648721747865327926"
     },
     "user_tz": -330
    },
    "id": "rjg88zcR0VdX",
    "outputId": "18550b85-5d91-49a5-bcad-12fd3b02cc45",
    "tags": []
   },
   "outputs": [
    {
     "data": {
      "text/plain": [
       "array([[0., 0.],\n",
       "       [0., 0.],\n",
       "       [0., 0.],\n",
       "       [0., 0.],\n",
       "       [0., 0.]])"
      ]
     },
     "execution_count": 16,
     "metadata": {},
     "output_type": "execute_result"
    }
   ],
   "source": [
    "np.zeros((5,2))"
   ]
  },
  {
   "cell_type": "code",
   "execution_count": 17,
   "metadata": {
    "colab": {
     "base_uri": "https://localhost:8080/"
    },
    "executionInfo": {
     "elapsed": 8,
     "status": "ok",
     "timestamp": 1686198293974,
     "user": {
      "displayName": "Akshwin T",
      "userId": "06648721747865327926"
     },
     "user_tz": -330
    },
    "id": "inwymzKe0avu",
    "outputId": "415d1328-afd3-4546-b398-0c25ba066013",
    "tags": []
   },
   "outputs": [
    {
     "data": {
      "text/plain": [
       "array([[1., 0., 0., 0., 0.],\n",
       "       [0., 1., 0., 0., 0.],\n",
       "       [0., 0., 1., 0., 0.],\n",
       "       [0., 0., 0., 1., 0.],\n",
       "       [0., 0., 0., 0., 1.]])"
      ]
     },
     "execution_count": 17,
     "metadata": {},
     "output_type": "execute_result"
    }
   ],
   "source": [
    "np.eye(5)"
   ]
  },
  {
   "cell_type": "code",
   "execution_count": 18,
   "metadata": {
    "colab": {
     "base_uri": "https://localhost:8080/"
    },
    "executionInfo": {
     "elapsed": 6,
     "status": "ok",
     "timestamp": 1686198294639,
     "user": {
      "displayName": "Akshwin T",
      "userId": "06648721747865327926"
     },
     "user_tz": -330
    },
    "id": "FaZb-GFa0dMd",
    "outputId": "08cd0ccc-7f21-46c3-c937-de46506a97f9",
    "tags": []
   },
   "outputs": [
    {
     "data": {
      "text/plain": [
       "array([[1., 0., 0., 0., 0.],\n",
       "       [0., 1., 0., 0., 0.],\n",
       "       [0., 0., 1., 0., 0.],\n",
       "       [0., 0., 0., 1., 0.],\n",
       "       [0., 0., 0., 0., 1.]])"
      ]
     },
     "execution_count": 18,
     "metadata": {},
     "output_type": "execute_result"
    }
   ],
   "source": [
    "np.eye(5,5)"
   ]
  },
  {
   "cell_type": "code",
   "execution_count": 19,
   "metadata": {
    "executionInfo": {
     "elapsed": 5,
     "status": "ok",
     "timestamp": 1686198294640,
     "user": {
      "displayName": "Akshwin T",
      "userId": "06648721747865327926"
     },
     "user_tz": -330
    },
    "id": "RMiROegc0enL",
    "tags": []
   },
   "outputs": [],
   "source": [
    "m=np.arange(50)"
   ]
  },
  {
   "cell_type": "code",
   "execution_count": 20,
   "metadata": {
    "colab": {
     "base_uri": "https://localhost:8080/"
    },
    "executionInfo": {
     "elapsed": 6,
     "status": "ok",
     "timestamp": 1686198295353,
     "user": {
      "displayName": "Akshwin T",
      "userId": "06648721747865327926"
     },
     "user_tz": -330
    },
    "id": "7sJ5s9Iq0hjl",
    "outputId": "df46c1b6-484f-44f9-a90d-a46d19b04e93",
    "tags": []
   },
   "outputs": [
    {
     "data": {
      "text/plain": [
       "50"
      ]
     },
     "execution_count": 20,
     "metadata": {},
     "output_type": "execute_result"
    }
   ],
   "source": [
    "len(m)"
   ]
  },
  {
   "cell_type": "markdown",
   "metadata": {
    "id": "gQY6dLcu0lhP"
   },
   "source": [
    "**RESHAPE FUNCTION**"
   ]
  },
  {
   "cell_type": "code",
   "execution_count": 21,
   "metadata": {
    "colab": {
     "base_uri": "https://localhost:8080/"
    },
    "executionInfo": {
     "elapsed": 5,
     "status": "ok",
     "timestamp": 1686198295354,
     "user": {
      "displayName": "Akshwin T",
      "userId": "06648721747865327926"
     },
     "user_tz": -330
    },
    "id": "-mnWO8KU0j6n",
    "outputId": "61e7750f-718e-49eb-9b34-046d8f09fb32",
    "tags": []
   },
   "outputs": [
    {
     "data": {
      "text/plain": [
       "array([ 0,  1,  2,  3,  4,  5,  6,  7,  8,  9, 10, 11, 12, 13, 14, 15, 16,\n",
       "       17, 18, 19, 20, 21, 22, 23, 24, 25, 26, 27, 28, 29, 30, 31, 32, 33,\n",
       "       34, 35, 36, 37, 38, 39, 40, 41, 42, 43, 44, 45, 46, 47, 48, 49])"
      ]
     },
     "execution_count": 21,
     "metadata": {},
     "output_type": "execute_result"
    }
   ],
   "source": [
    "m"
   ]
  },
  {
   "cell_type": "code",
   "execution_count": 22,
   "metadata": {
    "colab": {
     "base_uri": "https://localhost:8080/"
    },
    "executionInfo": {
     "elapsed": 8,
     "status": "ok",
     "timestamp": 1686198296055,
     "user": {
      "displayName": "Akshwin T",
      "userId": "06648721747865327926"
     },
     "user_tz": -330
    },
    "id": "W15tk9Ll0nqb",
    "outputId": "276f4fd9-9858-4178-98f6-3d494dd051fc",
    "tags": []
   },
   "outputs": [
    {
     "data": {
      "text/plain": [
       "array([[ 0,  1,  2,  3,  4,  5,  6,  7,  8,  9],\n",
       "       [10, 11, 12, 13, 14, 15, 16, 17, 18, 19],\n",
       "       [20, 21, 22, 23, 24, 25, 26, 27, 28, 29],\n",
       "       [30, 31, 32, 33, 34, 35, 36, 37, 38, 39],\n",
       "       [40, 41, 42, 43, 44, 45, 46, 47, 48, 49]])"
      ]
     },
     "execution_count": 22,
     "metadata": {},
     "output_type": "execute_result"
    }
   ],
   "source": [
    "m.reshape(5,10)"
   ]
  },
  {
   "cell_type": "markdown",
   "metadata": {
    "id": "FAMEzXzv0rSA"
   },
   "source": [
    "**LINSPACE**"
   ]
  },
  {
   "cell_type": "code",
   "execution_count": 23,
   "metadata": {
    "colab": {
     "base_uri": "https://localhost:8080/"
    },
    "executionInfo": {
     "elapsed": 7,
     "status": "ok",
     "timestamp": 1686198296056,
     "user": {
      "displayName": "Akshwin T",
      "userId": "06648721747865327926"
     },
     "user_tz": -330
    },
    "id": "C8MSiwDG0p9Y",
    "outputId": "055a4b93-8477-4f2e-d014-0234ee134fef",
    "tags": []
   },
   "outputs": [
    {
     "data": {
      "text/plain": [
       "array([0.        , 0.77777778, 1.55555556, 2.33333333, 3.11111111,\n",
       "       3.88888889, 4.66666667, 5.44444444, 6.22222222, 7.        ])"
      ]
     },
     "execution_count": 23,
     "metadata": {},
     "output_type": "execute_result"
    }
   ],
   "source": [
    "o=np.linspace(0,7,10)\n",
    "o"
   ]
  },
  {
   "cell_type": "code",
   "execution_count": 24,
   "metadata": {
    "colab": {
     "base_uri": "https://localhost:8080/"
    },
    "executionInfo": {
     "elapsed": 11,
     "status": "ok",
     "timestamp": 1686198296573,
     "user": {
      "displayName": "Akshwin T",
      "userId": "06648721747865327926"
     },
     "user_tz": -330
    },
    "id": "LtG8jIS80veB",
    "outputId": "7175af4c-2a94-41d7-92c1-cf4419532e9f",
    "tags": []
   },
   "outputs": [
    {
     "data": {
      "text/plain": [
       "10"
      ]
     },
     "execution_count": 24,
     "metadata": {},
     "output_type": "execute_result"
    }
   ],
   "source": [
    "len(o)"
   ]
  },
  {
   "cell_type": "markdown",
   "metadata": {
    "id": "XnZ51Blf00AQ"
   },
   "source": [
    "**RESIZE FUNCTION**"
   ]
  },
  {
   "cell_type": "code",
   "execution_count": 25,
   "metadata": {
    "colab": {
     "base_uri": "https://localhost:8080/"
    },
    "executionInfo": {
     "elapsed": 10,
     "status": "ok",
     "timestamp": 1686198296573,
     "user": {
      "displayName": "Akshwin T",
      "userId": "06648721747865327926"
     },
     "user_tz": -330
    },
    "id": "nxw3vqiW0ywX",
    "outputId": "f59eed81-655d-4ec9-ce09-2b400fc7c3ae",
    "tags": []
   },
   "outputs": [
    {
     "data": {
      "text/plain": [
       "array([[0.        , 0.77777778],\n",
       "       [1.55555556, 2.33333333],\n",
       "       [3.11111111, 3.88888889],\n",
       "       [4.66666667, 5.44444444],\n",
       "       [6.22222222, 7.        ]])"
      ]
     },
     "execution_count": 25,
     "metadata": {},
     "output_type": "execute_result"
    }
   ],
   "source": [
    "o.resize(5,2) # will change the original one ...\n",
    "o"
   ]
  },
  {
   "cell_type": "code",
   "execution_count": 26,
   "metadata": {
    "colab": {
     "base_uri": "https://localhost:8080/"
    },
    "executionInfo": {
     "elapsed": 7,
     "status": "ok",
     "timestamp": 1686198296574,
     "user": {
      "displayName": "Akshwin T",
      "userId": "06648721747865327926"
     },
     "user_tz": -330
    },
    "id": "KIN4My7T04CW",
    "outputId": "b9559cc2-68e3-4d0d-d061-5cbd994b5fec",
    "tags": []
   },
   "outputs": [
    {
     "data": {
      "text/plain": [
       "array([[0.        , 0.77777778],\n",
       "       [1.55555556, 2.33333333],\n",
       "       [3.11111111, 3.88888889],\n",
       "       [4.66666667, 5.44444444],\n",
       "       [6.22222222, 7.        ]])"
      ]
     },
     "execution_count": 26,
     "metadata": {},
     "output_type": "execute_result"
    }
   ],
   "source": [
    "o"
   ]
  },
  {
   "cell_type": "markdown",
   "metadata": {
    "id": "I3koHuD-4ixk"
   },
   "source": [
    "RANDOM.RAND"
   ]
  },
  {
   "cell_type": "code",
   "execution_count": 27,
   "metadata": {
    "colab": {
     "base_uri": "https://localhost:8080/"
    },
    "executionInfo": {
     "elapsed": 3,
     "status": "ok",
     "timestamp": 1686198297150,
     "user": {
      "displayName": "Akshwin T",
      "userId": "06648721747865327926"
     },
     "user_tz": -330
    },
    "id": "lp_rK4ff5t9Z",
    "outputId": "0704f268-cc76-4cc4-8eb5-55d5b01e141b",
    "tags": []
   },
   "outputs": [
    {
     "data": {
      "text/plain": [
       "array([[0.89720957, 0.8800827 ],\n",
       "       [0.07285756, 0.34472374],\n",
       "       [0.87743477, 0.51283242]])"
      ]
     },
     "execution_count": 27,
     "metadata": {},
     "output_type": "execute_result"
    }
   ],
   "source": [
    "# random numbers between 0 and 1 \n",
    "np.random.rand(3,2)"
   ]
  },
  {
   "cell_type": "markdown",
   "metadata": {
    "id": "1rzqSHel7I_g"
   },
   "source": [
    "**RANDOM.RANDN**"
   ]
  },
  {
   "cell_type": "code",
   "execution_count": 28,
   "metadata": {
    "colab": {
     "base_uri": "https://localhost:8080/"
    },
    "executionInfo": {
     "elapsed": 8,
     "status": "ok",
     "timestamp": 1686198297745,
     "user": {
      "displayName": "Akshwin T",
      "userId": "06648721747865327926"
     },
     "user_tz": -330
    },
    "id": "371c-ODp6o5Z",
    "outputId": "9a4e41f7-2e38-4f94-df33-364f75d90120",
    "tags": []
   },
   "outputs": [
    {
     "data": {
      "text/plain": [
       "array([[ 0.66849714, -2.90349777, -1.23741447],\n",
       "       [ 0.15394954,  0.83665053, -0.20270082],\n",
       "       [ 0.92950524,  0.53495791,  1.09137706]])"
      ]
     },
     "execution_count": 28,
     "metadata": {},
     "output_type": "execute_result"
    }
   ],
   "source": [
    "# return vlaues from standard normal distribution \n",
    "np.random.randn(3,3)"
   ]
  },
  {
   "cell_type": "markdown",
   "metadata": {
    "id": "cynkgIyG7y0I"
   },
   "source": [
    "RANDOM.RANDINT"
   ]
  },
  {
   "cell_type": "code",
   "execution_count": 29,
   "metadata": {
    "executionInfo": {
     "elapsed": 12,
     "status": "ok",
     "timestamp": 1686198298471,
     "user": {
      "displayName": "Akshwin T",
      "userId": "06648721747865327926"
     },
     "user_tz": -330
    },
    "id": "gt1FPl6z7Y1F",
    "tags": []
   },
   "outputs": [],
   "source": [
    "# gives integer from low(inclusion) to high (exclusion) with number of random numbers\n",
    "m=np.random.randint(4,15,10)"
   ]
  },
  {
   "cell_type": "code",
   "execution_count": 30,
   "metadata": {
    "colab": {
     "base_uri": "https://localhost:8080/"
    },
    "executionInfo": {
     "elapsed": 12,
     "status": "ok",
     "timestamp": 1686198298471,
     "user": {
      "displayName": "Akshwin T",
      "userId": "06648721747865327926"
     },
     "user_tz": -330
    },
    "id": "3ltIi5tw767q",
    "outputId": "35b293f8-72e8-4fc1-8783-74a15784cf7c",
    "tags": []
   },
   "outputs": [
    {
     "data": {
      "text/plain": [
       "10"
      ]
     },
     "execution_count": 30,
     "metadata": {},
     "output_type": "execute_result"
    }
   ],
   "source": [
    "len(m)"
   ]
  },
  {
   "cell_type": "code",
   "execution_count": 31,
   "metadata": {
    "colab": {
     "base_uri": "https://localhost:8080/"
    },
    "executionInfo": {
     "elapsed": 11,
     "status": "ok",
     "timestamp": 1686198298472,
     "user": {
      "displayName": "Akshwin T",
      "userId": "06648721747865327926"
     },
     "user_tz": -330
    },
    "id": "-5vqJgwP93xM",
    "outputId": "8188a980-1f21-43af-8e96-831d5b747e30",
    "tags": []
   },
   "outputs": [
    {
     "data": {
      "text/plain": [
       "array([[ 4,  9],\n",
       "       [ 5,  5],\n",
       "       [ 8,  7],\n",
       "       [11, 11],\n",
       "       [ 6,  7]])"
      ]
     },
     "execution_count": 31,
     "metadata": {},
     "output_type": "execute_result"
    }
   ],
   "source": [
    "m.reshape(5,2)"
   ]
  },
  {
   "cell_type": "code",
   "execution_count": 32,
   "metadata": {
    "colab": {
     "base_uri": "https://localhost:8080/"
    },
    "executionInfo": {
     "elapsed": 9,
     "status": "ok",
     "timestamp": 1686198298473,
     "user": {
      "displayName": "Akshwin T",
      "userId": "06648721747865327926"
     },
     "user_tz": -330
    },
    "id": "rwJC5oXb9718",
    "outputId": "9778459f-22c0-4492-8efa-4f488f4d3993",
    "tags": []
   },
   "outputs": [
    {
     "data": {
      "text/plain": [
       "array([[3, 8, 3],\n",
       "       [6, 4, 2],\n",
       "       [4, 3, 4],\n",
       "       [3, 8, 6]])"
      ]
     },
     "execution_count": 32,
     "metadata": {},
     "output_type": "execute_result"
    }
   ],
   "source": [
    "tt = np.random.randint(0,10,(4,3))\n",
    "tt"
   ]
  },
  {
   "cell_type": "markdown",
   "metadata": {
    "id": "pYJE65MQPSf7"
   },
   "source": [
    "**INDEXING AND SLICING**"
   ]
  },
  {
   "cell_type": "code",
   "execution_count": 33,
   "metadata": {
    "colab": {
     "base_uri": "https://localhost:8080/"
    },
    "executionInfo": {
     "elapsed": 7,
     "status": "ok",
     "timestamp": 1686198299606,
     "user": {
      "displayName": "Akshwin T",
      "userId": "06648721747865327926"
     },
     "user_tz": -330
    },
    "id": "GnG16hAZ-Onf",
    "outputId": "496dedbc-5ea1-4aea-c407-a9e3a8c4db05",
    "tags": []
   },
   "outputs": [
    {
     "data": {
      "text/plain": [
       "array([11, 13,  7,  5, 11,  4, 12,  4,  4, 10])"
      ]
     },
     "execution_count": 33,
     "metadata": {},
     "output_type": "execute_result"
    }
   ],
   "source": [
    "m = np.random.randint(4,15,10)\n",
    "m"
   ]
  },
  {
   "cell_type": "code",
   "execution_count": 34,
   "metadata": {
    "colab": {
     "base_uri": "https://localhost:8080/"
    },
    "executionInfo": {
     "elapsed": 6,
     "status": "ok",
     "timestamp": 1686198309937,
     "user": {
      "displayName": "Akshwin T",
      "userId": "06648721747865327926"
     },
     "user_tz": -330
    },
    "id": "Kfh75XwHP0CC",
    "outputId": "37e86e3f-6045-440a-85b7-bfa5dee8abce",
    "tags": []
   },
   "outputs": [
    {
     "data": {
      "text/plain": [
       "13"
      ]
     },
     "execution_count": 34,
     "metadata": {},
     "output_type": "execute_result"
    }
   ],
   "source": [
    "m[1]"
   ]
  },
  {
   "cell_type": "code",
   "execution_count": 35,
   "metadata": {
    "colab": {
     "base_uri": "https://localhost:8080/"
    },
    "executionInfo": {
     "elapsed": 551,
     "status": "ok",
     "timestamp": 1686198329428,
     "user": {
      "displayName": "Akshwin T",
      "userId": "06648721747865327926"
     },
     "user_tz": -330
    },
    "id": "BhbPxIcvQEWd",
    "outputId": "d5c2b574-dec4-46bc-bdcb-dbe1865c0532",
    "tags": []
   },
   "outputs": [
    {
     "data": {
      "text/plain": [
       "10"
      ]
     },
     "execution_count": 35,
     "metadata": {},
     "output_type": "execute_result"
    }
   ],
   "source": [
    "m[-1]"
   ]
  },
  {
   "cell_type": "code",
   "execution_count": 36,
   "metadata": {
    "colab": {
     "base_uri": "https://localhost:8080/"
    },
    "executionInfo": {
     "elapsed": 5,
     "status": "ok",
     "timestamp": 1686198403776,
     "user": {
      "displayName": "Akshwin T",
      "userId": "06648721747865327926"
     },
     "user_tz": -330
    },
    "id": "6ekJupUyQJBp",
    "outputId": "da6f9611-0d2b-4592-e0fe-9c8279e25682",
    "tags": []
   },
   "outputs": [
    {
     "data": {
      "text/plain": [
       "array([ 5, 11,  4, 12])"
      ]
     },
     "execution_count": 36,
     "metadata": {},
     "output_type": "execute_result"
    }
   ],
   "source": [
    "m[3:7]"
   ]
  },
  {
   "cell_type": "code",
   "execution_count": 37,
   "metadata": {
    "colab": {
     "base_uri": "https://localhost:8080/"
    },
    "executionInfo": {
     "elapsed": 790,
     "status": "ok",
     "timestamp": 1686198454398,
     "user": {
      "displayName": "Akshwin T",
      "userId": "06648721747865327926"
     },
     "user_tz": -330
    },
    "id": "jx3oXLaFQbmw",
    "outputId": "ccb4c82b-94cf-479c-c947-5e116aea123e",
    "tags": []
   },
   "outputs": [
    {
     "data": {
      "text/plain": [
       "array([ 5, 11,  4, 12,  4,  4, 10])"
      ]
     },
     "execution_count": 37,
     "metadata": {},
     "output_type": "execute_result"
    }
   ],
   "source": [
    "m[3:]"
   ]
  },
  {
   "cell_type": "code",
   "execution_count": 38,
   "metadata": {
    "colab": {
     "base_uri": "https://localhost:8080/"
    },
    "executionInfo": {
     "elapsed": 5,
     "status": "ok",
     "timestamp": 1686198478232,
     "user": {
      "displayName": "Akshwin T",
      "userId": "06648721747865327926"
     },
     "user_tz": -330
    },
    "id": "ID5eZsFTQnks",
    "outputId": "fb91bb51-cd84-431a-e71c-858b70c02d11",
    "tags": []
   },
   "outputs": [
    {
     "data": {
      "text/plain": [
       "array([ 4, 12,  4])"
      ]
     },
     "execution_count": 38,
     "metadata": {},
     "output_type": "execute_result"
    }
   ],
   "source": [
    "m[5:-2]"
   ]
  },
  {
   "cell_type": "code",
   "execution_count": 39,
   "metadata": {
    "executionInfo": {
     "elapsed": 4,
     "status": "ok",
     "timestamp": 1686198563644,
     "user": {
      "displayName": "Akshwin T",
      "userId": "06648721747865327926"
     },
     "user_tz": -330
    },
    "id": "dEAhtSH_QuAA",
    "tags": []
   },
   "outputs": [],
   "source": [
    "m.resize(2,5)"
   ]
  },
  {
   "cell_type": "code",
   "execution_count": 40,
   "metadata": {
    "colab": {
     "base_uri": "https://localhost:8080/"
    },
    "executionInfo": {
     "elapsed": 6,
     "status": "ok",
     "timestamp": 1686198585144,
     "user": {
      "displayName": "Akshwin T",
      "userId": "06648721747865327926"
     },
     "user_tz": -330
    },
    "id": "n19xSJILRCqU",
    "outputId": "e9db63e7-0548-4143-bfc8-03d297d09a15",
    "tags": []
   },
   "outputs": [
    {
     "data": {
      "text/plain": [
       "array([ 0,  1,  2,  3,  4,  5,  6,  7,  8,  9, 10, 11, 12, 13, 14, 15, 16,\n",
       "       17, 18, 19, 20, 21, 22, 23, 24, 25, 26, 27, 28, 29, 30, 31, 32, 33,\n",
       "       34, 35, 36, 37, 38, 39, 40, 41, 42, 43, 44, 45, 46, 47, 48, 49, 50,\n",
       "       51, 52, 53, 54, 55, 56, 57, 58, 59, 60, 61, 62, 63])"
      ]
     },
     "execution_count": 40,
     "metadata": {},
     "output_type": "execute_result"
    }
   ],
   "source": [
    "m = np.arange(64)\n",
    "m"
   ]
  },
  {
   "cell_type": "code",
   "execution_count": 41,
   "metadata": {
    "colab": {
     "base_uri": "https://localhost:8080/"
    },
    "executionInfo": {
     "elapsed": 6,
     "status": "ok",
     "timestamp": 1686198666428,
     "user": {
      "displayName": "Akshwin T",
      "userId": "06648721747865327926"
     },
     "user_tz": -330
    },
    "id": "L0a9lnaCRGu0",
    "outputId": "f081d33c-05d9-4234-8e46-669b045e8d50",
    "tags": []
   },
   "outputs": [
    {
     "data": {
      "text/plain": [
       "array([[ 0,  1,  2,  3,  4,  5,  6,  7],\n",
       "       [ 8,  9, 10, 11, 12, 13, 14, 15],\n",
       "       [16, 17, 18, 19, 20, 21, 22, 23],\n",
       "       [24, 25, 26, 27, 28, 29, 30, 31],\n",
       "       [32, 33, 34, 35, 36, 37, 38, 39],\n",
       "       [40, 41, 42, 43, 44, 45, 46, 47],\n",
       "       [48, 49, 50, 51, 52, 53, 54, 55],\n",
       "       [56, 57, 58, 59, 60, 61, 62, 63]])"
      ]
     },
     "execution_count": 41,
     "metadata": {},
     "output_type": "execute_result"
    }
   ],
   "source": [
    "m.resize(8,8)\n",
    "m"
   ]
  },
  {
   "cell_type": "code",
   "execution_count": 42,
   "metadata": {
    "colab": {
     "base_uri": "https://localhost:8080/"
    },
    "executionInfo": {
     "elapsed": 26,
     "status": "ok",
     "timestamp": 1686198651261,
     "user": {
      "displayName": "Akshwin T",
      "userId": "06648721747865327926"
     },
     "user_tz": -330
    },
    "id": "H4jV9M_NRMz_",
    "outputId": "9f5afe76-0bc0-42d7-a16a-16283569a230",
    "tags": []
   },
   "outputs": [
    {
     "data": {
      "text/plain": [
       "19"
      ]
     },
     "execution_count": 42,
     "metadata": {},
     "output_type": "execute_result"
    }
   ],
   "source": [
    "m[2,3]"
   ]
  },
  {
   "cell_type": "code",
   "execution_count": 43,
   "metadata": {
    "colab": {
     "base_uri": "https://localhost:8080/"
    },
    "executionInfo": {
     "elapsed": 1168,
     "status": "ok",
     "timestamp": 1686198754228,
     "user": {
      "displayName": "Akshwin T",
      "userId": "06648721747865327926"
     },
     "user_tz": -330
    },
    "id": "RJFdHxp3RN4K",
    "outputId": "874d75b0-03f3-4735-cc00-a40d93bcaa16",
    "tags": []
   },
   "outputs": [
    {
     "data": {
      "text/plain": [
       "array([34, 35, 36])"
      ]
     },
     "execution_count": 43,
     "metadata": {},
     "output_type": "execute_result"
    }
   ],
   "source": [
    "m[4,2:5]"
   ]
  },
  {
   "cell_type": "code",
   "execution_count": 44,
   "metadata": {
    "colab": {
     "base_uri": "https://localhost:8080/"
    },
    "executionInfo": {
     "elapsed": 25,
     "status": "ok",
     "timestamp": 1686198847236,
     "user": {
      "displayName": "Akshwin T",
      "userId": "06648721747865327926"
     },
     "user_tz": -330
    },
    "id": "b1_vEjXmRw4t",
    "outputId": "9a451516-c8e2-4fad-ea45-58b36b3a9215",
    "tags": []
   },
   "outputs": [
    {
     "data": {
      "text/plain": [
       "array([[16, 17, 18, 19, 20, 21, 22, 23],\n",
       "       [24, 25, 26, 27, 28, 29, 30, 31],\n",
       "       [32, 33, 34, 35, 36, 37, 38, 39],\n",
       "       [40, 41, 42, 43, 44, 45, 46, 47],\n",
       "       [48, 49, 50, 51, 52, 53, 54, 55],\n",
       "       [56, 57, 58, 59, 60, 61, 62, 63]])"
      ]
     },
     "execution_count": 44,
     "metadata": {},
     "output_type": "execute_result"
    }
   ],
   "source": [
    "m[2:]"
   ]
  },
  {
   "cell_type": "code",
   "execution_count": 45,
   "metadata": {
    "colab": {
     "base_uri": "https://localhost:8080/"
    },
    "executionInfo": {
     "elapsed": 6,
     "status": "ok",
     "timestamp": 1686198918218,
     "user": {
      "displayName": "Akshwin T",
      "userId": "06648721747865327926"
     },
     "user_tz": -330
    },
    "id": "nS32nJjUSHHi",
    "outputId": "80b2c2e3-a437-4b89-de1a-7d675f80b5b8",
    "tags": []
   },
   "outputs": [
    {
     "data": {
      "text/plain": [
       "array([[27, 28, 29, 30, 31],\n",
       "       [35, 36, 37, 38, 39],\n",
       "       [43, 44, 45, 46, 47],\n",
       "       [51, 52, 53, 54, 55],\n",
       "       [59, 60, 61, 62, 63]])"
      ]
     },
     "execution_count": 45,
     "metadata": {},
     "output_type": "execute_result"
    }
   ],
   "source": [
    "m[3:,3:]"
   ]
  },
  {
   "cell_type": "code",
   "execution_count": 46,
   "metadata": {
    "colab": {
     "base_uri": "https://localhost:8080/"
    },
    "executionInfo": {
     "elapsed": 5,
     "status": "ok",
     "timestamp": 1686199007435,
     "user": {
      "displayName": "Akshwin T",
      "userId": "06648721747865327926"
     },
     "user_tz": -330
    },
    "id": "r3sDQnjrSZgS",
    "outputId": "a68a4315-f624-48ea-b9f5-f717a07c4cbb",
    "tags": []
   },
   "outputs": [
    {
     "data": {
      "text/plain": [
       "array([26, 27, 28, 29, 30, 31, 32, 33, 34, 35, 36, 37, 38, 39, 40, 41, 42,\n",
       "       43, 44, 45, 46, 47, 48, 49, 50, 51, 52, 53, 54, 55, 56, 57, 58, 59,\n",
       "       60, 61, 62, 63])"
      ]
     },
     "execution_count": 46,
     "metadata": {},
     "output_type": "execute_result"
    }
   ],
   "source": [
    "m[m>25]"
   ]
  },
  {
   "cell_type": "code",
   "execution_count": 47,
   "metadata": {
    "colab": {
     "base_uri": "https://localhost:8080/"
    },
    "executionInfo": {
     "elapsed": 6,
     "status": "ok",
     "timestamp": 1686199037443,
     "user": {
      "displayName": "Akshwin T",
      "userId": "06648721747865327926"
     },
     "user_tz": -330
    },
    "id": "3NAmh_SUSvVZ",
    "outputId": "ee1797b0-f181-48f1-d784-8c058167043a",
    "tags": []
   },
   "outputs": [
    {
     "data": {
      "text/plain": [
       "array([[False, False, False, False, False, False, False, False],\n",
       "       [False, False, False, False, False, False, False, False],\n",
       "       [False, False, False, False, False, False, False, False],\n",
       "       [False, False,  True,  True,  True,  True,  True,  True],\n",
       "       [ True,  True,  True,  True,  True,  True,  True,  True],\n",
       "       [ True,  True,  True,  True,  True,  True,  True,  True],\n",
       "       [ True,  True,  True,  True,  True,  True,  True,  True],\n",
       "       [ True,  True,  True,  True,  True,  True,  True,  True]])"
      ]
     },
     "execution_count": 47,
     "metadata": {},
     "output_type": "execute_result"
    }
   ],
   "source": [
    "m>25"
   ]
  },
  {
   "cell_type": "markdown",
   "metadata": {
    "id": "62SAs0UoTLpk"
   },
   "source": [
    "**BROADCASTING**"
   ]
  },
  {
   "cell_type": "code",
   "execution_count": 48,
   "metadata": {
    "executionInfo": {
     "elapsed": 25,
     "status": "ok",
     "timestamp": 1686199163300,
     "user": {
      "displayName": "Akshwin T",
      "userId": "06648721747865327926"
     },
     "user_tz": -330
    },
    "id": "y1bkZdGRS1aU",
    "tags": []
   },
   "outputs": [],
   "source": [
    "m[m>25] = 25 # casting all the values that are grater than 25 to 25"
   ]
  },
  {
   "cell_type": "code",
   "execution_count": 49,
   "metadata": {
    "colab": {
     "base_uri": "https://localhost:8080/"
    },
    "executionInfo": {
     "elapsed": 5,
     "status": "ok",
     "timestamp": 1686199171264,
     "user": {
      "displayName": "Akshwin T",
      "userId": "06648721747865327926"
     },
     "user_tz": -330
    },
    "id": "X2_Rh0HxTU9i",
    "outputId": "4716beaa-9626-43e3-a8e1-572ec04b9870",
    "tags": []
   },
   "outputs": [
    {
     "data": {
      "text/plain": [
       "array([[ 0,  1,  2,  3,  4,  5,  6,  7],\n",
       "       [ 8,  9, 10, 11, 12, 13, 14, 15],\n",
       "       [16, 17, 18, 19, 20, 21, 22, 23],\n",
       "       [24, 25, 25, 25, 25, 25, 25, 25],\n",
       "       [25, 25, 25, 25, 25, 25, 25, 25],\n",
       "       [25, 25, 25, 25, 25, 25, 25, 25],\n",
       "       [25, 25, 25, 25, 25, 25, 25, 25],\n",
       "       [25, 25, 25, 25, 25, 25, 25, 25]])"
      ]
     },
     "execution_count": 49,
     "metadata": {},
     "output_type": "execute_result"
    }
   ],
   "source": [
    "m"
   ]
  },
  {
   "cell_type": "markdown",
   "metadata": {
    "id": "jK3B4zDvThB9"
   },
   "source": [
    "**CREATE A COPY DATASET**"
   ]
  },
  {
   "cell_type": "code",
   "execution_count": 50,
   "metadata": {
    "colab": {
     "base_uri": "https://localhost:8080/"
    },
    "executionInfo": {
     "elapsed": 7,
     "status": "ok",
     "timestamp": 1686199768324,
     "user": {
      "displayName": "Akshwin T",
      "userId": "06648721747865327926"
     },
     "user_tz": -330
    },
    "id": "Rq4o-eU8TW_j",
    "outputId": "2267fc39-82fb-41bc-814a-e3d6443f1535",
    "tags": []
   },
   "outputs": [
    {
     "data": {
      "text/plain": [
       "array([[25, 25, 25, 25, 25],\n",
       "       [25, 25, 25, 25, 25],\n",
       "       [25, 25, 25, 25, 25],\n",
       "       [25, 25, 25, 25, 25],\n",
       "       [25, 25, 25, 25, 25]])"
      ]
     },
     "execution_count": 50,
     "metadata": {},
     "output_type": "execute_result"
    }
   ],
   "source": [
    "m1 = m[3:,3:]\n",
    "m1"
   ]
  },
  {
   "cell_type": "code",
   "execution_count": 51,
   "metadata": {
    "colab": {
     "base_uri": "https://localhost:8080/"
    },
    "executionInfo": {
     "elapsed": 24,
     "status": "ok",
     "timestamp": 1686199967853,
     "user": {
      "displayName": "Akshwin T",
      "userId": "06648721747865327926"
     },
     "user_tz": -330
    },
    "id": "dcAuICviVnGv",
    "outputId": "9a883df1-6728-48c5-fea8-376493cda98e",
    "tags": []
   },
   "outputs": [
    {
     "data": {
      "text/plain": [
       "array([[ 0,  1,  2,  3,  4,  5,  6,  7],\n",
       "       [ 8,  9, 10, 11, 12, 13, 14, 15],\n",
       "       [16, 17, 18, 19, 20, 21, 22, 23],\n",
       "       [24, 25, 25, 25, 25, 25, 25, 25],\n",
       "       [25, 25, 25, 25, 25, 25, 25, 25],\n",
       "       [25, 25, 25, 25, 25, 25, 25, 25],\n",
       "       [25, 25, 25, 25, 25, 25, 25, 25],\n",
       "       [25, 25, 25, 25, 25, 25, 25, 25]])"
      ]
     },
     "execution_count": 51,
     "metadata": {},
     "output_type": "execute_result"
    }
   ],
   "source": [
    "m_copy = m.copy()\n",
    "m_copy"
   ]
  },
  {
   "cell_type": "markdown",
   "metadata": {
    "id": "uxe7clOPYThx"
   },
   "source": [
    "**DATA FRAME**"
   ]
  },
  {
   "cell_type": "code",
   "execution_count": 52,
   "metadata": {
    "executionInfo": {
     "elapsed": 740,
     "status": "ok",
     "timestamp": 1686200518329,
     "user": {
      "displayName": "Akshwin T",
      "userId": "06648721747865327926"
     },
     "user_tz": -330
    },
    "id": "3YvGYPmOWXhy",
    "tags": []
   },
   "outputs": [],
   "source": [
    "import pandas as pd"
   ]
  },
  {
   "cell_type": "code",
   "execution_count": 53,
   "metadata": {
    "id": "h0AMzSSpYbUG",
    "tags": []
   },
   "outputs": [
    {
     "data": {
      "text/html": [
       "<div>\n",
       "<style scoped>\n",
       "    .dataframe tbody tr th:only-of-type {\n",
       "        vertical-align: middle;\n",
       "    }\n",
       "\n",
       "    .dataframe tbody tr th {\n",
       "        vertical-align: top;\n",
       "    }\n",
       "\n",
       "    .dataframe thead th {\n",
       "        text-align: right;\n",
       "    }\n",
       "</style>\n",
       "<table border=\"1\" class=\"dataframe\">\n",
       "  <thead>\n",
       "    <tr style=\"text-align: right;\">\n",
       "      <th></th>\n",
       "      <th>abilities</th>\n",
       "      <th>against_bug</th>\n",
       "      <th>against_dark</th>\n",
       "      <th>against_dragon</th>\n",
       "      <th>against_electric</th>\n",
       "      <th>against_fairy</th>\n",
       "      <th>against_fight</th>\n",
       "      <th>against_fire</th>\n",
       "      <th>against_flying</th>\n",
       "      <th>against_ghost</th>\n",
       "      <th>...</th>\n",
       "      <th>percentage_male</th>\n",
       "      <th>pokedex_number</th>\n",
       "      <th>sp_attack</th>\n",
       "      <th>sp_defense</th>\n",
       "      <th>speed</th>\n",
       "      <th>type1</th>\n",
       "      <th>type2</th>\n",
       "      <th>weight_kg</th>\n",
       "      <th>generation</th>\n",
       "      <th>is_legendary</th>\n",
       "    </tr>\n",
       "  </thead>\n",
       "  <tbody>\n",
       "    <tr>\n",
       "      <th>0</th>\n",
       "      <td>['Overgrow', 'Chlorophyll']</td>\n",
       "      <td>1.0</td>\n",
       "      <td>1.0</td>\n",
       "      <td>1.0</td>\n",
       "      <td>0.5</td>\n",
       "      <td>0.5</td>\n",
       "      <td>0.5</td>\n",
       "      <td>2.0</td>\n",
       "      <td>2.0</td>\n",
       "      <td>1.0</td>\n",
       "      <td>...</td>\n",
       "      <td>88.1</td>\n",
       "      <td>1</td>\n",
       "      <td>65</td>\n",
       "      <td>65</td>\n",
       "      <td>45</td>\n",
       "      <td>grass</td>\n",
       "      <td>poison</td>\n",
       "      <td>6.9</td>\n",
       "      <td>1</td>\n",
       "      <td>0</td>\n",
       "    </tr>\n",
       "    <tr>\n",
       "      <th>1</th>\n",
       "      <td>['Overgrow', 'Chlorophyll']</td>\n",
       "      <td>1.0</td>\n",
       "      <td>1.0</td>\n",
       "      <td>1.0</td>\n",
       "      <td>0.5</td>\n",
       "      <td>0.5</td>\n",
       "      <td>0.5</td>\n",
       "      <td>2.0</td>\n",
       "      <td>2.0</td>\n",
       "      <td>1.0</td>\n",
       "      <td>...</td>\n",
       "      <td>88.1</td>\n",
       "      <td>2</td>\n",
       "      <td>80</td>\n",
       "      <td>80</td>\n",
       "      <td>60</td>\n",
       "      <td>grass</td>\n",
       "      <td>poison</td>\n",
       "      <td>13.0</td>\n",
       "      <td>1</td>\n",
       "      <td>0</td>\n",
       "    </tr>\n",
       "    <tr>\n",
       "      <th>2</th>\n",
       "      <td>['Overgrow', 'Chlorophyll']</td>\n",
       "      <td>1.0</td>\n",
       "      <td>1.0</td>\n",
       "      <td>1.0</td>\n",
       "      <td>0.5</td>\n",
       "      <td>0.5</td>\n",
       "      <td>0.5</td>\n",
       "      <td>2.0</td>\n",
       "      <td>2.0</td>\n",
       "      <td>1.0</td>\n",
       "      <td>...</td>\n",
       "      <td>88.1</td>\n",
       "      <td>3</td>\n",
       "      <td>122</td>\n",
       "      <td>120</td>\n",
       "      <td>80</td>\n",
       "      <td>grass</td>\n",
       "      <td>poison</td>\n",
       "      <td>100.0</td>\n",
       "      <td>1</td>\n",
       "      <td>0</td>\n",
       "    </tr>\n",
       "    <tr>\n",
       "      <th>3</th>\n",
       "      <td>['Blaze', 'Solar Power']</td>\n",
       "      <td>0.5</td>\n",
       "      <td>1.0</td>\n",
       "      <td>1.0</td>\n",
       "      <td>1.0</td>\n",
       "      <td>0.5</td>\n",
       "      <td>1.0</td>\n",
       "      <td>0.5</td>\n",
       "      <td>1.0</td>\n",
       "      <td>1.0</td>\n",
       "      <td>...</td>\n",
       "      <td>88.1</td>\n",
       "      <td>4</td>\n",
       "      <td>60</td>\n",
       "      <td>50</td>\n",
       "      <td>65</td>\n",
       "      <td>fire</td>\n",
       "      <td>NaN</td>\n",
       "      <td>8.5</td>\n",
       "      <td>1</td>\n",
       "      <td>0</td>\n",
       "    </tr>\n",
       "    <tr>\n",
       "      <th>4</th>\n",
       "      <td>['Blaze', 'Solar Power']</td>\n",
       "      <td>0.5</td>\n",
       "      <td>1.0</td>\n",
       "      <td>1.0</td>\n",
       "      <td>1.0</td>\n",
       "      <td>0.5</td>\n",
       "      <td>1.0</td>\n",
       "      <td>0.5</td>\n",
       "      <td>1.0</td>\n",
       "      <td>1.0</td>\n",
       "      <td>...</td>\n",
       "      <td>88.1</td>\n",
       "      <td>5</td>\n",
       "      <td>80</td>\n",
       "      <td>65</td>\n",
       "      <td>80</td>\n",
       "      <td>fire</td>\n",
       "      <td>NaN</td>\n",
       "      <td>19.0</td>\n",
       "      <td>1</td>\n",
       "      <td>0</td>\n",
       "    </tr>\n",
       "  </tbody>\n",
       "</table>\n",
       "<p>5 rows × 41 columns</p>\n",
       "</div>"
      ],
      "text/plain": [
       "                     abilities  against_bug  against_dark  against_dragon  \\\n",
       "0  ['Overgrow', 'Chlorophyll']          1.0           1.0             1.0   \n",
       "1  ['Overgrow', 'Chlorophyll']          1.0           1.0             1.0   \n",
       "2  ['Overgrow', 'Chlorophyll']          1.0           1.0             1.0   \n",
       "3     ['Blaze', 'Solar Power']          0.5           1.0             1.0   \n",
       "4     ['Blaze', 'Solar Power']          0.5           1.0             1.0   \n",
       "\n",
       "   against_electric  against_fairy  against_fight  against_fire  \\\n",
       "0               0.5            0.5            0.5           2.0   \n",
       "1               0.5            0.5            0.5           2.0   \n",
       "2               0.5            0.5            0.5           2.0   \n",
       "3               1.0            0.5            1.0           0.5   \n",
       "4               1.0            0.5            1.0           0.5   \n",
       "\n",
       "   against_flying  against_ghost  ...  percentage_male  pokedex_number  \\\n",
       "0             2.0            1.0  ...             88.1               1   \n",
       "1             2.0            1.0  ...             88.1               2   \n",
       "2             2.0            1.0  ...             88.1               3   \n",
       "3             1.0            1.0  ...             88.1               4   \n",
       "4             1.0            1.0  ...             88.1               5   \n",
       "\n",
       "   sp_attack  sp_defense  speed  type1   type2  weight_kg  generation  \\\n",
       "0         65          65     45  grass  poison        6.9           1   \n",
       "1         80          80     60  grass  poison       13.0           1   \n",
       "2        122         120     80  grass  poison      100.0           1   \n",
       "3         60          50     65   fire     NaN        8.5           1   \n",
       "4         80          65     80   fire     NaN       19.0           1   \n",
       "\n",
       "   is_legendary  \n",
       "0             0  \n",
       "1             0  \n",
       "2             0  \n",
       "3             0  \n",
       "4             0  \n",
       "\n",
       "[5 rows x 41 columns]"
      ]
     },
     "execution_count": 53,
     "metadata": {},
     "output_type": "execute_result"
    }
   ],
   "source": [
    "data = pd.read_csv('pokemon.csv')\n",
    "data.head() # see first 5 rows "
   ]
  },
  {
   "cell_type": "markdown",
   "metadata": {
    "id": "bDNdYvajcbn9"
   },
   "source": [
    "**ASSIGNMENT** "
   ]
  },
  {
   "cell_type": "code",
   "execution_count": 54,
   "metadata": {
    "executionInfo": {
     "elapsed": 616,
     "status": "ok",
     "timestamp": 1686201568281,
     "user": {
      "displayName": "Akshwin T",
      "userId": "06648721747865327926"
     },
     "user_tz": -330
    },
    "id": "4tTL6JcQcZM2",
    "tags": []
   },
   "outputs": [],
   "source": [
    "import numpy as np"
   ]
  },
  {
   "cell_type": "code",
   "execution_count": 55,
   "metadata": {
    "executionInfo": {
     "elapsed": 586,
     "status": "ok",
     "timestamp": 1686201590340,
     "user": {
      "displayName": "Akshwin T",
      "userId": "06648721747865327926"
     },
     "user_tz": -330
    },
    "id": "xv4oPaPVcgaz",
    "tags": []
   },
   "outputs": [],
   "source": [
    "array1 = np.arange(15,40)"
   ]
  },
  {
   "cell_type": "code",
   "execution_count": 56,
   "metadata": {
    "colab": {
     "base_uri": "https://localhost:8080/"
    },
    "executionInfo": {
     "elapsed": 8,
     "status": "ok",
     "timestamp": 1686201593416,
     "user": {
      "displayName": "Akshwin T",
      "userId": "06648721747865327926"
     },
     "user_tz": -330
    },
    "id": "TpTADye0cl0g",
    "outputId": "ca73e590-a1ac-4cc0-b73d-3546c685ed5f",
    "tags": []
   },
   "outputs": [
    {
     "data": {
      "text/plain": [
       "array([15, 16, 17, 18, 19, 20, 21, 22, 23, 24, 25, 26, 27, 28, 29, 30, 31,\n",
       "       32, 33, 34, 35, 36, 37, 38, 39])"
      ]
     },
     "execution_count": 56,
     "metadata": {},
     "output_type": "execute_result"
    }
   ],
   "source": [
    "array1"
   ]
  },
  {
   "cell_type": "code",
   "execution_count": 57,
   "metadata": {
    "colab": {
     "base_uri": "https://localhost:8080/"
    },
    "executionInfo": {
     "elapsed": 699,
     "status": "ok",
     "timestamp": 1686201615702,
     "user": {
      "displayName": "Akshwin T",
      "userId": "06648721747865327926"
     },
     "user_tz": -330
    },
    "id": "wsDsK_FvcmZV",
    "outputId": "27754005-64a1-4aee-e048-b994f26325e8",
    "tags": []
   },
   "outputs": [
    {
     "data": {
      "text/plain": [
       "array([10, 11, 12, 13, 14, 15, 16, 17, 18, 19, 20, 21, 22, 23, 24, 25])"
      ]
     },
     "execution_count": 57,
     "metadata": {},
     "output_type": "execute_result"
    }
   ],
   "source": [
    "array2  = np.arange(10,26)\n",
    "array2"
   ]
  },
  {
   "cell_type": "code",
   "execution_count": 58,
   "metadata": {
    "colab": {
     "base_uri": "https://localhost:8080/"
    },
    "executionInfo": {
     "elapsed": 459,
     "status": "ok",
     "timestamp": 1686201652255,
     "user": {
      "displayName": "Akshwin T",
      "userId": "06648721747865327926"
     },
     "user_tz": -330
    },
    "id": "W9okfvyecr-D",
    "outputId": "116d41c7-acb3-466e-e72e-05f0ac11c070",
    "tags": []
   },
   "outputs": [
    {
     "data": {
      "text/plain": [
       "array([ 2,  4,  6,  8, 10, 12, 14, 16, 18])"
      ]
     },
     "execution_count": 58,
     "metadata": {},
     "output_type": "execute_result"
    }
   ],
   "source": [
    "even_array1 = np.arange(2,20,2)\n",
    "even_array1"
   ]
  },
  {
   "cell_type": "code",
   "execution_count": 59,
   "metadata": {
    "colab": {
     "base_uri": "https://localhost:8080/"
    },
    "executionInfo": {
     "elapsed": 557,
     "status": "ok",
     "timestamp": 1686201689408,
     "user": {
      "displayName": "Akshwin T",
      "userId": "06648721747865327926"
     },
     "user_tz": -330
    },
    "id": "zYEOfKZ-c09L",
    "outputId": "d01a2847-f305-4d10-cceb-05148757491e",
    "tags": []
   },
   "outputs": [
    {
     "data": {
      "text/plain": [
       "array([34, 36, 38, 40])"
      ]
     },
     "execution_count": 59,
     "metadata": {},
     "output_type": "execute_result"
    }
   ],
   "source": [
    "even_array2 = np.arange(34,42,2)\n",
    "even_array2"
   ]
  },
  {
   "cell_type": "code",
   "execution_count": 60,
   "metadata": {
    "colab": {
     "base_uri": "https://localhost:8080/"
    },
    "executionInfo": {
     "elapsed": 982,
     "status": "ok",
     "timestamp": 1686201802060,
     "user": {
      "displayName": "Akshwin T",
      "userId": "06648721747865327926"
     },
     "user_tz": -330
    },
    "id": "IFVx7Q7Sc7bz",
    "outputId": "2ef3f3ee-5dc9-47f9-840a-7865524221ff",
    "tags": []
   },
   "outputs": [
    {
     "name": "stdout",
     "output_type": "stream",
     "text": [
      "[[1 2 3]\n",
      " [4 5 6]]\n"
     ]
    }
   ],
   "source": [
    "a = np.array([1,2,3])\n",
    "b = np.array([4,5,6])\n",
    "c = np.stack((a,b),axis = 0)\n",
    "print(c)"
   ]
  },
  {
   "cell_type": "code",
   "execution_count": 61,
   "metadata": {
    "colab": {
     "base_uri": "https://localhost:8080/"
    },
    "executionInfo": {
     "elapsed": 1186,
     "status": "ok",
     "timestamp": 1686202000444,
     "user": {
      "displayName": "Akshwin T",
      "userId": "06648721747865327926"
     },
     "user_tz": -330
    },
    "id": "iMm-H5BZdW5z",
    "outputId": "e8e870c4-ef51-4aa5-eed5-d0df8410379d",
    "tags": []
   },
   "outputs": [
    {
     "data": {
      "text/plain": [
       "array([[ 0,  1,  2,  3,  4,  5],\n",
       "       [ 6,  7,  8,  9, 10, 11],\n",
       "       [12, 13, 14, 15, 16, 17],\n",
       "       [18, 19, 20, 21, 22, 23],\n",
       "       [24, 25, 26, 27, 28, 29],\n",
       "       [30, 31, 32, 33, 34, 35]])"
      ]
     },
     "execution_count": 61,
     "metadata": {},
     "output_type": "execute_result"
    }
   ],
   "source": [
    "mat = np.arange(0,36)\n",
    "mat.resize(6,6)\n",
    "mat"
   ]
  },
  {
   "cell_type": "code",
   "execution_count": 62,
   "metadata": {
    "colab": {
     "base_uri": "https://localhost:8080/"
    },
    "executionInfo": {
     "elapsed": 870,
     "status": "ok",
     "timestamp": 1686202026145,
     "user": {
      "displayName": "Akshwin T",
      "userId": "06648721747865327926"
     },
     "user_tz": -330
    },
    "id": "XqN5Mr5nd6pB",
    "outputId": "98a12bfe-f9ed-47f9-9c13-3051722bb571",
    "tags": []
   },
   "outputs": [
    {
     "data": {
      "text/plain": [
       "13"
      ]
     },
     "execution_count": 62,
     "metadata": {},
     "output_type": "execute_result"
    }
   ],
   "source": [
    "mat[2][1]"
   ]
  },
  {
   "cell_type": "code",
   "execution_count": 63,
   "metadata": {
    "colab": {
     "base_uri": "https://localhost:8080/"
    },
    "executionInfo": {
     "elapsed": 850,
     "status": "ok",
     "timestamp": 1686202054251,
     "user": {
      "displayName": "Akshwin T",
      "userId": "06648721747865327926"
     },
     "user_tz": -330
    },
    "id": "xen6SsfieM-C",
    "outputId": "76c7467d-c65a-453f-981f-73004ce70ff0",
    "tags": []
   },
   "outputs": [
    {
     "data": {
      "text/plain": [
       "array([[ 0.43088471, -0.86580786],\n",
       "       [ 0.21834763,  0.51165279],\n",
       "       [-0.84639515,  1.57174369],\n",
       "       [ 2.21840987,  0.87091389],\n",
       "       [ 0.85428415, -1.30490801]])"
      ]
     },
     "execution_count": 63,
     "metadata": {},
     "output_type": "execute_result"
    }
   ],
   "source": [
    "x = np.random.randn(5,2)\n",
    "x"
   ]
  },
  {
   "cell_type": "code",
   "execution_count": 64,
   "metadata": {
    "colab": {
     "base_uri": "https://localhost:8080/"
    },
    "executionInfo": {
     "elapsed": 724,
     "status": "ok",
     "timestamp": 1686202096912,
     "user": {
      "displayName": "Akshwin T",
      "userId": "06648721747865327926"
     },
     "user_tz": -330
    },
    "id": "E4YdujwIeWvl",
    "outputId": "2454af77-368b-4c9b-fc8e-49ac6070f6aa",
    "tags": []
   },
   "outputs": [
    {
     "data": {
      "text/plain": [
       "-1.3049080085074816"
      ]
     },
     "execution_count": 64,
     "metadata": {},
     "output_type": "execute_result"
    }
   ],
   "source": [
    "x[4,1]"
   ]
  },
  {
   "cell_type": "code",
   "execution_count": 65,
   "metadata": {
    "colab": {
     "base_uri": "https://localhost:8080/"
    },
    "executionInfo": {
     "elapsed": 6,
     "status": "ok",
     "timestamp": 1686202132148,
     "user": {
      "displayName": "Akshwin T",
      "userId": "06648721747865327926"
     },
     "user_tz": -330
    },
    "id": "eP1QTXPrebRv",
    "outputId": "70fd7f32-2fd8-424e-8c81-33d1a6f5469e",
    "tags": []
   },
   "outputs": [
    {
     "data": {
      "text/plain": [
       "-1.3049080085074816"
      ]
     },
     "execution_count": 65,
     "metadata": {},
     "output_type": "execute_result"
    }
   ],
   "source": [
    "np.min(x)"
   ]
  },
  {
   "cell_type": "code",
   "execution_count": 66,
   "metadata": {
    "colab": {
     "base_uri": "https://localhost:8080/"
    },
    "executionInfo": {
     "elapsed": 589,
     "status": "ok",
     "timestamp": 1686202139708,
     "user": {
      "displayName": "Akshwin T",
      "userId": "06648721747865327926"
     },
     "user_tz": -330
    },
    "id": "gRh6jHGJen1O",
    "outputId": "efa74301-5d39-4f88-e53b-3ac1a5af26c6",
    "tags": []
   },
   "outputs": [
    {
     "data": {
      "text/plain": [
       "2.2184098696321355"
      ]
     },
     "execution_count": 66,
     "metadata": {},
     "output_type": "execute_result"
    }
   ],
   "source": [
    "np.max(x)"
   ]
  },
  {
   "cell_type": "code",
   "execution_count": 67,
   "metadata": {
    "colab": {
     "base_uri": "https://localhost:8080/"
    },
    "executionInfo": {
     "elapsed": 7,
     "status": "ok",
     "timestamp": 1686202149399,
     "user": {
      "displayName": "Akshwin T",
      "userId": "06648721747865327926"
     },
     "user_tz": -330
    },
    "id": "QdAfFNaner9o",
    "outputId": "758373a0-4414-48b9-d3ec-11006379660e",
    "tags": []
   },
   "outputs": [
    {
     "data": {
      "text/plain": [
       "1.0585372788056424"
      ]
     },
     "execution_count": 67,
     "metadata": {},
     "output_type": "execute_result"
    }
   ],
   "source": [
    "np.std(x)"
   ]
  },
  {
   "cell_type": "code",
   "execution_count": 68,
   "metadata": {
    "colab": {
     "base_uri": "https://localhost:8080/"
    },
    "executionInfo": {
     "elapsed": 459,
     "status": "ok",
     "timestamp": 1686202155391,
     "user": {
      "displayName": "Akshwin T",
      "userId": "06648721747865327926"
     },
     "user_tz": -330
    },
    "id": "vV48Ji0JeuK7",
    "outputId": "79994497-97d3-44f1-b73a-511c532ef157",
    "tags": []
   },
   "outputs": [
    {
     "data": {
      "text/plain": [
       "1.1205011706212544"
      ]
     },
     "execution_count": 68,
     "metadata": {},
     "output_type": "execute_result"
    }
   ],
   "source": [
    "np.var(x)"
   ]
  },
  {
   "cell_type": "code",
   "execution_count": 69,
   "metadata": {
    "colab": {
     "base_uri": "https://localhost:8080/"
    },
    "executionInfo": {
     "elapsed": 12,
     "status": "ok",
     "timestamp": 1686202163704,
     "user": {
      "displayName": "Akshwin T",
      "userId": "06648721747865327926"
     },
     "user_tz": -330
    },
    "id": "S_E5_I5jevzt",
    "outputId": "f98bb47c-15c4-4fae-c335-8ffeb110dbb3",
    "tags": []
   },
   "outputs": [
    {
     "data": {
      "text/plain": [
       "0.36591257146414213"
      ]
     },
     "execution_count": 69,
     "metadata": {},
     "output_type": "execute_result"
    }
   ],
   "source": [
    "np.mean(x)"
   ]
  }
 ],
 "metadata": {
  "colab": {
   "authorship_tag": "ABX9TyP3aISgckGluRgtiQDzFIzj",
   "provenance": []
  },
  "kernelspec": {
   "display_name": "Python 3 (ipykernel)",
   "language": "python",
   "name": "python3"
  },
  "language_info": {
   "codemirror_mode": {
    "name": "ipython",
    "version": 3
   },
   "file_extension": ".py",
   "mimetype": "text/x-python",
   "name": "python",
   "nbconvert_exporter": "python",
   "pygments_lexer": "ipython3",
   "version": "3.11.5"
  }
 },
 "nbformat": 4,
 "nbformat_minor": 4
}
